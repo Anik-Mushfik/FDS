{
 "cells": [
  {
   "cell_type": "code",
   "execution_count": 2,
   "metadata": {},
   "outputs": [],
   "source": [
    "import pandas as pd"
   ]
  },
  {
   "cell_type": "markdown",
   "metadata": {},
   "source": [
    "Using dictionries:"
   ]
  },
  {
   "cell_type": "code",
   "execution_count": 3,
   "metadata": {},
   "outputs": [
    {
     "data": {
      "text/html": [
       "<div>\n",
       "<style scoped>\n",
       "    .dataframe tbody tr th:only-of-type {\n",
       "        vertical-align: middle;\n",
       "    }\n",
       "\n",
       "    .dataframe tbody tr th {\n",
       "        vertical-align: top;\n",
       "    }\n",
       "\n",
       "    .dataframe thead th {\n",
       "        text-align: right;\n",
       "    }\n",
       "</style>\n",
       "<table border=\"1\" class=\"dataframe\">\n",
       "  <thead>\n",
       "    <tr style=\"text-align: right;\">\n",
       "      <th></th>\n",
       "      <th>Name</th>\n",
       "      <th>Age</th>\n",
       "      <th>City</th>\n",
       "      <th>Score</th>\n",
       "    </tr>\n",
       "  </thead>\n",
       "  <tbody>\n",
       "    <tr>\n",
       "      <th>0</th>\n",
       "      <td>Tamanna</td>\n",
       "      <td>24</td>\n",
       "      <td>Dhaka</td>\n",
       "      <td>85</td>\n",
       "    </tr>\n",
       "    <tr>\n",
       "      <th>1</th>\n",
       "      <td>Faysal</td>\n",
       "      <td>27</td>\n",
       "      <td>Sylthet</td>\n",
       "      <td>95</td>\n",
       "    </tr>\n",
       "    <tr>\n",
       "      <th>2</th>\n",
       "      <td>Tarek</td>\n",
       "      <td>22</td>\n",
       "      <td>Dhaka</td>\n",
       "      <td>78</td>\n",
       "    </tr>\n",
       "    <tr>\n",
       "      <th>3</th>\n",
       "      <td>Raisa</td>\n",
       "      <td>32</td>\n",
       "      <td>Khulna</td>\n",
       "      <td>90</td>\n",
       "    </tr>\n",
       "    <tr>\n",
       "      <th>4</th>\n",
       "      <td>Imtiaz</td>\n",
       "      <td>24</td>\n",
       "      <td>Rajshahi</td>\n",
       "      <td>88</td>\n",
       "    </tr>\n",
       "  </tbody>\n",
       "</table>\n",
       "</div>"
      ],
      "text/plain": [
       "      Name  Age      City  Score\n",
       "0  Tamanna   24     Dhaka     85\n",
       "1   Faysal   27   Sylthet     95\n",
       "2    Tarek   22     Dhaka     78\n",
       "3    Raisa   32    Khulna     90\n",
       "4   Imtiaz   24  Rajshahi     88"
      ]
     },
     "execution_count": 3,
     "metadata": {},
     "output_type": "execute_result"
    }
   ],
   "source": [
    "data = {\n",
    "    'Name': ['Tamanna', 'Faysal', 'Tarek', 'Raisa', 'Imtiaz', 'Farah'],\n",
    "    'Age': [24, 27, 22, 32, 24, 22],\n",
    "    'City': ['Dhaka', 'Sylthet', 'Dhaka', 'Khulna', 'Rajshahi', 'Sylhet'],\n",
    "    'Score': [85, 95, 78, 90, 88, 84]\n",
    "}\n",
    "df = pd.DataFrame(data)\n",
    "df.head()"
   ]
  },
  {
   "cell_type": "markdown",
   "metadata": {},
   "source": [
    "Using Tuples/Lists:"
   ]
  },
  {
   "cell_type": "code",
   "execution_count": 4,
   "metadata": {},
   "outputs": [
    {
     "data": {
      "text/html": [
       "<div>\n",
       "<style scoped>\n",
       "    .dataframe tbody tr th:only-of-type {\n",
       "        vertical-align: middle;\n",
       "    }\n",
       "\n",
       "    .dataframe tbody tr th {\n",
       "        vertical-align: top;\n",
       "    }\n",
       "\n",
       "    .dataframe thead th {\n",
       "        text-align: right;\n",
       "    }\n",
       "</style>\n",
       "<table border=\"1\" class=\"dataframe\">\n",
       "  <thead>\n",
       "    <tr style=\"text-align: right;\">\n",
       "      <th></th>\n",
       "      <th>Name</th>\n",
       "      <th>Age</th>\n",
       "      <th>City</th>\n",
       "    </tr>\n",
       "  </thead>\n",
       "  <tbody>\n",
       "    <tr>\n",
       "      <th>0</th>\n",
       "      <td>Tarek</td>\n",
       "      <td>24</td>\n",
       "      <td>Dhaka</td>\n",
       "    </tr>\n",
       "    <tr>\n",
       "      <th>1</th>\n",
       "      <td>Barek</td>\n",
       "      <td>23</td>\n",
       "      <td>Faka</td>\n",
       "    </tr>\n",
       "    <tr>\n",
       "      <th>2</th>\n",
       "      <td>Parek</td>\n",
       "      <td>21</td>\n",
       "      <td>Chaka</td>\n",
       "    </tr>\n",
       "  </tbody>\n",
       "</table>\n",
       "</div>"
      ],
      "text/plain": [
       "    Name  Age   City\n",
       "0  Tarek   24  Dhaka\n",
       "1  Barek   23   Faka\n",
       "2  Parek   21  Chaka"
      ]
     },
     "execution_count": 4,
     "metadata": {},
     "output_type": "execute_result"
    }
   ],
   "source": [
    "data = [\n",
    "    ('Tarek', 24, 'Dhaka'),\n",
    "    ('Barek', 23, 'Faka'), \n",
    "    ('Parek', 21, 'Chaka')\n",
    "]\n",
    "\n",
    "columns = ['Name', 'Age', 'City']\n",
    "\n",
    "df = pd.DataFrame(data, columns=columns)\n",
    "df"
   ]
  },
  {
   "cell_type": "markdown",
   "metadata": {},
   "source": [
    "List of Dictionaries:"
   ]
  },
  {
   "cell_type": "code",
   "execution_count": 5,
   "metadata": {},
   "outputs": [
    {
     "name": "stdout",
     "output_type": "stream",
     "text": [
      "       Name  Age       City\n",
      "0      Anik   24      Dhaka\n",
      "1  Musfique   22   Noakhali\n",
      "2   Tasfiya   25  Chitagong\n",
      "(3, 3)\n",
      "9\n"
     ]
    }
   ],
   "source": [
    "data = [\n",
    "    {'Name' : 'Anik', 'Age': 24, 'City': 'Dhaka'},\n",
    "    {'Name': 'Musfique', 'Age': 22, 'City':'Noakhali'},\n",
    "    {'Name': 'Tasfiya', 'Age': 25, 'City':'Chitagong'}\n",
    "]\n",
    "\n",
    "df = pd.DataFrame(data=data)\n",
    "print(df)\n",
    "print(df.shape)\n",
    "print(df.size)"
   ]
  },
  {
   "cell_type": "markdown",
   "metadata": {},
   "source": []
  },
  {
   "cell_type": "code",
   "execution_count": 7,
   "metadata": {},
   "outputs": [
    {
     "name": "stderr",
     "output_type": "stream",
     "text": [
      "<>:1: SyntaxWarning: invalid escape sequence '\\M'\n",
      "<>:1: SyntaxWarning: invalid escape sequence '\\M'\n",
      "C:\\Users\\PC\\AppData\\Local\\Temp\\ipykernel_14908\\2862459660.py:1: SyntaxWarning: invalid escape sequence '\\M'\n",
      "  df = pd.read_csv(\"C:\\Musfique's Folder\\Python\\FDS\\Web Scrapping\\Phone Price\\laptop_data.csv\")\n"
     ]
    },
    {
     "data": {
      "text/html": [
       "<div>\n",
       "<style scoped>\n",
       "    .dataframe tbody tr th:only-of-type {\n",
       "        vertical-align: middle;\n",
       "    }\n",
       "\n",
       "    .dataframe tbody tr th {\n",
       "        vertical-align: top;\n",
       "    }\n",
       "\n",
       "    .dataframe thead th {\n",
       "        text-align: right;\n",
       "    }\n",
       "</style>\n",
       "<table border=\"1\" class=\"dataframe\">\n",
       "  <thead>\n",
       "    <tr style=\"text-align: right;\">\n",
       "      <th></th>\n",
       "      <th>Model</th>\n",
       "      <th>Price</th>\n",
       "    </tr>\n",
       "  </thead>\n",
       "  <tbody>\n",
       "    <tr>\n",
       "      <th>0</th>\n",
       "      <td>Lenovo IdeaPad Flex 5 14ALC7 AMD Ryzen 5 5500U...</td>\n",
       "      <td>95000</td>\n",
       "    </tr>\n",
       "    <tr>\n",
       "      <th>1</th>\n",
       "      <td>Lenovo IdeaPad Flex 5 14ALC7 AMD Ryzen 7 5700U...</td>\n",
       "      <td>107000</td>\n",
       "    </tr>\n",
       "    <tr>\n",
       "      <th>2</th>\n",
       "      <td>Lenovo IdeaPad D330 10IGL Celeron N4020 10.1\" ...</td>\n",
       "      <td>28500</td>\n",
       "    </tr>\n",
       "    <tr>\n",
       "      <th>3</th>\n",
       "      <td>Lenovo IdeaPad Pro 5 16AHP9 Ryzen 7 8845HS AI ...</td>\n",
       "      <td>159000</td>\n",
       "    </tr>\n",
       "    <tr>\n",
       "      <th>4</th>\n",
       "      <td>Lenovo Legion Slim 5 16AHP9 Ryzen 7 8845HS AI ...</td>\n",
       "      <td>250000</td>\n",
       "    </tr>\n",
       "    <tr>\n",
       "      <th>...</th>\n",
       "      <td>...</td>\n",
       "      <td>...</td>\n",
       "    </tr>\n",
       "    <tr>\n",
       "      <th>119</th>\n",
       "      <td>Lenovo IdeaPad Slim 3 Ryzen 5 7520U 14\" FHD La...</td>\n",
       "      <td>Out Of Stock</td>\n",
       "    </tr>\n",
       "    <tr>\n",
       "      <th>120</th>\n",
       "      <td>Lenovo LOQ 15AHP9 Ryzen 7 8845HS AI Integrated...</td>\n",
       "      <td>Out Of Stock</td>\n",
       "    </tr>\n",
       "    <tr>\n",
       "      <th>121</th>\n",
       "      <td>Lenovo IdeaPad Slim 3 14ABR8 Ryzen 7 7730U Aby...</td>\n",
       "      <td>Out Of Stock</td>\n",
       "    </tr>\n",
       "    <tr>\n",
       "      <th>122</th>\n",
       "      <td>Lenovo IdeaPad Slim 3 Ryzen 5 7520U 15.6\" FHD ...</td>\n",
       "      <td>Out Of Stock</td>\n",
       "    </tr>\n",
       "    <tr>\n",
       "      <th>123</th>\n",
       "      <td>Lenovo Yoga 7 2-in-1 14AHP9 Ryzen 7 8840HS AI ...</td>\n",
       "      <td>Out Of Stock</td>\n",
       "    </tr>\n",
       "  </tbody>\n",
       "</table>\n",
       "<p>124 rows × 2 columns</p>\n",
       "</div>"
      ],
      "text/plain": [
       "                                                 Model         Price\n",
       "0    Lenovo IdeaPad Flex 5 14ALC7 AMD Ryzen 5 5500U...         95000\n",
       "1    Lenovo IdeaPad Flex 5 14ALC7 AMD Ryzen 7 5700U...        107000\n",
       "2    Lenovo IdeaPad D330 10IGL Celeron N4020 10.1\" ...         28500\n",
       "3    Lenovo IdeaPad Pro 5 16AHP9 Ryzen 7 8845HS AI ...        159000\n",
       "4    Lenovo Legion Slim 5 16AHP9 Ryzen 7 8845HS AI ...        250000\n",
       "..                                                 ...           ...\n",
       "119  Lenovo IdeaPad Slim 3 Ryzen 5 7520U 14\" FHD La...  Out Of Stock\n",
       "120  Lenovo LOQ 15AHP9 Ryzen 7 8845HS AI Integrated...  Out Of Stock\n",
       "121  Lenovo IdeaPad Slim 3 14ABR8 Ryzen 7 7730U Aby...  Out Of Stock\n",
       "122  Lenovo IdeaPad Slim 3 Ryzen 5 7520U 15.6\" FHD ...  Out Of Stock\n",
       "123  Lenovo Yoga 7 2-in-1 14AHP9 Ryzen 7 8840HS AI ...  Out Of Stock\n",
       "\n",
       "[124 rows x 2 columns]"
      ]
     },
     "execution_count": 7,
     "metadata": {},
     "output_type": "execute_result"
    }
   ],
   "source": [
    "df = pd.read_csv(\"C:\\Musfique's Folder\\Python\\FDS\\Web Scrapping\\Phone Price\\laptop_data.csv\")\n",
    "df"
   ]
  },
  {
   "cell_type": "markdown",
   "metadata": {},
   "source": []
  },
  {
   "cell_type": "code",
   "execution_count": 8,
   "metadata": {},
   "outputs": [
    {
     "data": {
      "text/plain": [
       "(124, 2)"
      ]
     },
     "execution_count": 8,
     "metadata": {},
     "output_type": "execute_result"
    }
   ],
   "source": [
    "df.shape"
   ]
  },
  {
   "cell_type": "code",
   "execution_count": null,
   "metadata": {},
   "outputs": [],
   "source": []
  }
 ],
 "metadata": {
  "kernelspec": {
   "display_name": "Python 3",
   "language": "python",
   "name": "python3"
  },
  "language_info": {
   "codemirror_mode": {
    "name": "ipython",
    "version": 3
   },
   "file_extension": ".py",
   "mimetype": "text/x-python",
   "name": "python",
   "nbconvert_exporter": "python",
   "pygments_lexer": "ipython3",
   "version": "3.12.4"
  }
 },
 "nbformat": 4,
 "nbformat_minor": 2
}
