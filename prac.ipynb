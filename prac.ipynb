{
 "cells": [
  {
   "cell_type": "markdown",
   "metadata": {},
   "source": [
    "**A - Holiday Of Equality**\n",
    "\n",
    "In Berland it is the holiday of equality. In honor of the holiday the king decided to equalize the welfare of all citizens in Berland by the expense of the state treasury.\n",
    "\n",
    "Totally in Berland there are n citizens, the welfare of each of them is estimated as the integer in ai burles (burle is the currency in Berland).\n",
    "\n",
    "You are the royal treasurer, which needs to count the minimum charges of the kingdom on the king's present. The king can only give money, he hasn't a power to take away them.\n",
    "\n",
    "Input\n",
    "The first line contains the integer n (1 ≤ n ≤ 100) — the number of citizens in the kingdom.\n",
    "\n",
    "The second line contains n integers a1, a2, ..., an, where ai (0 ≤ ai ≤ 106) — the welfare of the i-th citizen.\n",
    "\n",
    "Output\n",
    "In the only line print the integer S — the minimum number of burles which are had to spend.\n",
    "\n",
    "Examples\n",
    "\n",
    "Inputcopy\tOutputcopy\n",
    "5\n",
    "0 1 2 3 4\n",
    "10\n",
    "Inputcopy\tOutputcopy\n",
    "5\n",
    "1 1 0 1 1\n",
    "1\n",
    "Inputcopy\tOutputcopy\n",
    "3\n",
    "1 3 1\n",
    "4\n",
    "Inputcopy\tOutputcopy\n",
    "1\n",
    "12\n",
    "0\n",
    "\n",
    "Note\n",
    "In the first example if we add to the first citizen 4 burles, to the second 3, to the third 2 and to the fourth 1, then the welfare of all citizens will equal 4.\n",
    "\n",
    "In the second example it is enough to give one burle to the third citizen.\n",
    "\n",
    "In the third example it is necessary to give two burles to the first and the third citizens to make the welfare of citizens equal 3.\n",
    "\n",
    "In the fourth example it is possible to give nothing to everyone because all citizens have 12 burles."
   ]
  },
  {
   "cell_type": "code",
   "execution_count": 7,
   "metadata": {},
   "outputs": [
    {
     "name": "stdout",
     "output_type": "stream",
     "text": [
      "0\n"
     ]
    }
   ],
   "source": [
    "num_of_citizens = int(input())\n",
    "welfare_of_each = list(map(int, input().split()))\n",
    "\n",
    "max_welfare = max(welfare_of_each)\n",
    "minimum_spend = 0\n",
    "\n",
    "for welfare in welfare_of_each:\n",
    "    while welfare != max_welfare:\n",
    "        welfare += 1\n",
    "        minimum_spend += 1\n",
    "\n",
    "print(minimum_spend)"
   ]
  },
  {
   "cell_type": "code",
   "execution_count": 8,
   "metadata": {},
   "outputs": [
    {
     "name": "stdout",
     "output_type": "stream",
     "text": [
      "10\n"
     ]
    }
   ],
   "source": [
    "num_of_citizens = int(input())\n",
    "welfare_of_each = list(map(int, input().split()))\n",
    "\n",
    "max_welfare = max(welfare_of_each)\n",
    "minimum_spend = 0\n",
    "\n",
    "for welfare in welfare_of_each:\n",
    "    minimum_spend += (max_welfare - welfare)\n",
    "\n",
    "print(minimum_spend)"
   ]
  },
  {
   "cell_type": "markdown",
   "metadata": {},
   "source": [
    "**B - Vanya and Fence**\n",
    "\n",
    "Vanya and his friends are walking along the fence of height h and they do not want the guard to notice them. In order to achieve this the height of each of the friends should not exceed h. If the height of some person is greater than h he can bend down and then he surely won't be noticed by the guard. The height of the i-th person is equal to ai.\n",
    "\n",
    "Consider the width of the person walking as usual to be equal to 1, while the width of the bent person is equal to 2. Friends want to talk to each other while walking, so they would like to walk in a single row. What is the minimum width of the road, such that friends can walk in a row and remain unattended by the guard?\n",
    "\n",
    "Input\n",
    "The first line of the input contains two integers n and h (1 ≤ n ≤ 1000, 1 ≤ h ≤ 1000) — the number of friends and the height of the fence, respectively.\n",
    "\n",
    "The second line contains n integers ai (1 ≤ ai ≤ 2h), the i-th of them is equal to the height of the i-th person.\n",
    "\n",
    "Output\n",
    "Print a single integer — the minimum possible valid width of the road.\n",
    "\n",
    "Examples\n",
    "Inputcopy\tOutputcopy\n",
    "3 7\n",
    "4 5 14\n",
    "4\n",
    "Inputcopy\tOutputcopy\n",
    "6 1\n",
    "1 1 1 1 1 1\n",
    "6\n",
    "Inputcopy\tOutputcopy\n",
    "6 5\n",
    "7 6 8 9 10 5\n",
    "11\n",
    "Note\n",
    "In the first sample, only person number 3 must bend down, so the required width is equal to 1 + 1 + 2 = 4.\n",
    "\n",
    "In the second sample, all friends are short enough and no one has to bend, so the width 1 + 1 + 1 + 1 + 1 + 1 = 6 is enough.\n",
    "\n",
    "In the third sample, all the persons have to bend, except the last one. The required minimum width of the road is equal to 2 + 2 + 2 + 2 + 2 + 1 = 11."
   ]
  },
  {
   "cell_type": "code",
   "execution_count": 13,
   "metadata": {},
   "outputs": [
    {
     "name": "stdout",
     "output_type": "stream",
     "text": [
      "11\n"
     ]
    }
   ],
   "source": [
    "num_of_frnds, height_of_fence = list(map(int, input().split()))\n",
    "height_of_each = list(map(int, input().split()))\n",
    "\n",
    "minimmum_width_of_the_road = 0\n",
    "\n",
    "for height in height_of_each:\n",
    "    if height > height_of_fence:\n",
    "        minimmum_width_of_the_road += 2\n",
    "    else:\n",
    "        minimmum_width_of_the_road += 1\n",
    "\n",
    "print(minimmum_width_of_the_road)"
   ]
  },
  {
   "cell_type": "markdown",
   "metadata": {},
   "source": [
    "**C - Vanya and Food Processor**\n",
    "\n",
    "Vanya smashes potato in a vertical food processor. At each moment of time the height of the potato in the processor doesn't exceed h and the processor smashes k centimeters of potato each second. If there are less than k centimeters remaining, than during this second processor smashes all the remaining potato.\n",
    "\n",
    "Vanya has n pieces of potato, the height of the i-th piece is equal to ai. He puts them in the food processor one by one starting from the piece number 1 and finishing with piece number n. Formally, each second the following happens:\n",
    "\n",
    "If there is at least one piece of potato remaining, Vanya puts them in the processor one by one, until there is not enough space for the next piece.\n",
    "Processor smashes k centimeters of potato (or just everything that is inside).\n",
    "Provided the information about the parameter of the food processor and the size of each potato in a row, compute how long will it take for all the potato to become smashed.\n",
    "\n",
    "Input\n",
    "The first line of the input contains integers n, h and k (1 ≤ n ≤ 100 000, 1 ≤ k ≤ h ≤ 109) — the number of pieces of potato, the height of the food processor and the amount of potato being smashed each second, respectively.\n",
    "\n",
    "The second line contains n integers ai (1 ≤ ai ≤ h) — the heights of the pieces.\n",
    "\n",
    "Output\n",
    "Print a single integer — the number of seconds required to smash all the potatoes following the process described in the problem statement.\n",
    "\n",
    "Examples\n",
    "Inputcopy\tOutputcopy\n",
    "5 6 3\n",
    "5 4 3 2 1\n",
    "5\n",
    "Inputcopy\tOutputcopy\n",
    "5 6 3\n",
    "5 5 5 5 5\n",
    "10\n",
    "Inputcopy\tOutputcopy\n",
    "5 6 3\n",
    "1 2 1 1 1\n",
    "2\n",
    "Note\n",
    "Consider the first sample.\n",
    "\n",
    "First Vanya puts the piece of potato of height 5 into processor. At the end of the second there is only amount of height 2 remaining inside.\n",
    "Now Vanya puts the piece of potato of height 4. At the end of the second there is amount of height 3 remaining.\n",
    "Vanya puts the piece of height 3 inside and again there are only 3 centimeters remaining at the end of this second.\n",
    "Vanya finally puts the pieces of height 2 and 1 inside. At the end of the second the height of potato in the processor is equal to 3.\n",
    "During this second processor finally smashes all the remaining potato and the process finishes.\n",
    "In the second sample, Vanya puts the piece of height 5 inside and waits for 2 seconds while it is completely smashed. Then he repeats the same process for 4 other pieces. The total time is equal to 2·5 = 10 seconds.\n",
    "\n",
    "In the third sample, Vanya simply puts all the potato inside the processor and waits 2 seconds."
   ]
  },
  {
   "cell_type": "code",
   "execution_count": null,
   "metadata": {},
   "outputs": [],
   "source": [
    "num_of_frnds, height_of_fence = list(map(int, input().split()))\n",
    "height_of_each = list(map(int, input().split()))"
   ]
  }
 ],
 "metadata": {
  "kernelspec": {
   "display_name": "Python 3",
   "language": "python",
   "name": "python3"
  },
  "language_info": {
   "codemirror_mode": {
    "name": "ipython",
    "version": 3
   },
   "file_extension": ".py",
   "mimetype": "text/x-python",
   "name": "python",
   "nbconvert_exporter": "python",
   "pygments_lexer": "ipython3",
   "version": "3.12.7"
  }
 },
 "nbformat": 4,
 "nbformat_minor": 2
}
