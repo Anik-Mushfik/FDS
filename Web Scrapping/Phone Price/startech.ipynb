{
 "cells": [
  {
   "cell_type": "code",
   "execution_count": 1,
   "metadata": {},
   "outputs": [],
   "source": [
    "import pandas as pd"
   ]
  },
  {
   "cell_type": "code",
   "execution_count": 2,
   "metadata": {},
   "outputs": [
    {
     "name": "stderr",
     "output_type": "stream",
     "text": [
      "<>:1: SyntaxWarning: invalid escape sequence '\\M'\n",
      "<>:1: SyntaxWarning: invalid escape sequence '\\M'\n",
      "C:\\Users\\PC\\AppData\\Local\\Temp\\ipykernel_5548\\2862459660.py:1: SyntaxWarning: invalid escape sequence '\\M'\n",
      "  df = pd.read_csv(\"C:\\Musfique's Folder\\Python\\FDS\\Web Scrapping\\Phone Price\\laptop_data.csv\")\n"
     ]
    },
    {
     "data": {
      "text/html": [
       "<div>\n",
       "<style scoped>\n",
       "    .dataframe tbody tr th:only-of-type {\n",
       "        vertical-align: middle;\n",
       "    }\n",
       "\n",
       "    .dataframe tbody tr th {\n",
       "        vertical-align: top;\n",
       "    }\n",
       "\n",
       "    .dataframe thead th {\n",
       "        text-align: right;\n",
       "    }\n",
       "</style>\n",
       "<table border=\"1\" class=\"dataframe\">\n",
       "  <thead>\n",
       "    <tr style=\"text-align: right;\">\n",
       "      <th></th>\n",
       "      <th>Model</th>\n",
       "      <th>Price</th>\n",
       "    </tr>\n",
       "  </thead>\n",
       "  <tbody>\n",
       "    <tr>\n",
       "      <th>0</th>\n",
       "      <td>Lenovo IdeaPad Flex 5 14ALC7 AMD Ryzen 5 5500U...</td>\n",
       "      <td>95000</td>\n",
       "    </tr>\n",
       "    <tr>\n",
       "      <th>1</th>\n",
       "      <td>Lenovo IdeaPad Flex 5 14ALC7 AMD Ryzen 7 5700U...</td>\n",
       "      <td>107000</td>\n",
       "    </tr>\n",
       "    <tr>\n",
       "      <th>2</th>\n",
       "      <td>Lenovo IdeaPad D330 10IGL Celeron N4020 10.1\" ...</td>\n",
       "      <td>28500</td>\n",
       "    </tr>\n",
       "    <tr>\n",
       "      <th>3</th>\n",
       "      <td>Lenovo IdeaPad Pro 5 16AHP9 Ryzen 7 8845HS AI ...</td>\n",
       "      <td>159000</td>\n",
       "    </tr>\n",
       "    <tr>\n",
       "      <th>4</th>\n",
       "      <td>Lenovo Legion Slim 5 16AHP9 Ryzen 7 8845HS AI ...</td>\n",
       "      <td>250000</td>\n",
       "    </tr>\n",
       "    <tr>\n",
       "      <th>...</th>\n",
       "      <td>...</td>\n",
       "      <td>...</td>\n",
       "    </tr>\n",
       "    <tr>\n",
       "      <th>119</th>\n",
       "      <td>Lenovo IdeaPad Slim 3 Ryzen 5 7520U 14\" FHD La...</td>\n",
       "      <td>Out Of Stock</td>\n",
       "    </tr>\n",
       "    <tr>\n",
       "      <th>120</th>\n",
       "      <td>Lenovo LOQ 15AHP9 Ryzen 7 8845HS AI Integrated...</td>\n",
       "      <td>Out Of Stock</td>\n",
       "    </tr>\n",
       "    <tr>\n",
       "      <th>121</th>\n",
       "      <td>Lenovo IdeaPad Slim 3 14ABR8 Ryzen 7 7730U Aby...</td>\n",
       "      <td>Out Of Stock</td>\n",
       "    </tr>\n",
       "    <tr>\n",
       "      <th>122</th>\n",
       "      <td>Lenovo IdeaPad Slim 3 Ryzen 5 7520U 15.6\" FHD ...</td>\n",
       "      <td>Out Of Stock</td>\n",
       "    </tr>\n",
       "    <tr>\n",
       "      <th>123</th>\n",
       "      <td>Lenovo Yoga 7 2-in-1 14AHP9 Ryzen 7 8840HS AI ...</td>\n",
       "      <td>Out Of Stock</td>\n",
       "    </tr>\n",
       "  </tbody>\n",
       "</table>\n",
       "<p>124 rows × 2 columns</p>\n",
       "</div>"
      ],
      "text/plain": [
       "                                                 Model         Price\n",
       "0    Lenovo IdeaPad Flex 5 14ALC7 AMD Ryzen 5 5500U...         95000\n",
       "1    Lenovo IdeaPad Flex 5 14ALC7 AMD Ryzen 7 5700U...        107000\n",
       "2    Lenovo IdeaPad D330 10IGL Celeron N4020 10.1\" ...         28500\n",
       "3    Lenovo IdeaPad Pro 5 16AHP9 Ryzen 7 8845HS AI ...        159000\n",
       "4    Lenovo Legion Slim 5 16AHP9 Ryzen 7 8845HS AI ...        250000\n",
       "..                                                 ...           ...\n",
       "119  Lenovo IdeaPad Slim 3 Ryzen 5 7520U 14\" FHD La...  Out Of Stock\n",
       "120  Lenovo LOQ 15AHP9 Ryzen 7 8845HS AI Integrated...  Out Of Stock\n",
       "121  Lenovo IdeaPad Slim 3 14ABR8 Ryzen 7 7730U Aby...  Out Of Stock\n",
       "122  Lenovo IdeaPad Slim 3 Ryzen 5 7520U 15.6\" FHD ...  Out Of Stock\n",
       "123  Lenovo Yoga 7 2-in-1 14AHP9 Ryzen 7 8840HS AI ...  Out Of Stock\n",
       "\n",
       "[124 rows x 2 columns]"
      ]
     },
     "execution_count": 2,
     "metadata": {},
     "output_type": "execute_result"
    }
   ],
   "source": [
    "df = pd.read_csv(\"C:\\Musfique's Folder\\Python\\FDS\\Web Scrapping\\Phone Price\\laptop_data.csv\")\n",
    "df"
   ]
  },
  {
   "cell_type": "code",
   "execution_count": null,
   "metadata": {},
   "outputs": [],
   "source": []
  }
 ],
 "metadata": {
  "kernelspec": {
   "display_name": "Python 3",
   "language": "python",
   "name": "python3"
  },
  "language_info": {
   "codemirror_mode": {
    "name": "ipython",
    "version": 3
   },
   "file_extension": ".py",
   "mimetype": "text/x-python",
   "name": "python",
   "nbconvert_exporter": "python",
   "pygments_lexer": "ipython3",
   "version": "3.12.4"
  }
 },
 "nbformat": 4,
 "nbformat_minor": 2
}
