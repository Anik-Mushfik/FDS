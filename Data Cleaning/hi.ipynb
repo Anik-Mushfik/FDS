{
 "cells": [
  {
   "cell_type": "code",
   "execution_count": 136,
   "metadata": {},
   "outputs": [],
   "source": [
    "import pandas as pd"
   ]
  },
  {
   "cell_type": "code",
   "execution_count": 137,
   "metadata": {},
   "outputs": [
    {
     "name": "stderr",
     "output_type": "stream",
     "text": [
      "<>:1: SyntaxWarning: invalid escape sequence '\\M'\n",
      "<>:1: SyntaxWarning: invalid escape sequence '\\M'\n",
      "C:\\Users\\PC\\AppData\\Local\\Temp\\ipykernel_22052\\1408443056.py:1: SyntaxWarning: invalid escape sequence '\\M'\n",
      "  df = pd.read_csv(\"C:\\Musfique's Folder\\Python\\FDS\\Data Cleaning\\Bengali_Banglish_80K_Dataset.csv\")\n"
     ]
    },
    {
     "data": {
      "text/html": [
       "<div>\n",
       "<style scoped>\n",
       "    .dataframe tbody tr th:only-of-type {\n",
       "        vertical-align: middle;\n",
       "    }\n",
       "\n",
       "    .dataframe tbody tr th {\n",
       "        vertical-align: top;\n",
       "    }\n",
       "\n",
       "    .dataframe thead th {\n",
       "        text-align: right;\n",
       "    }\n",
       "</style>\n",
       "<table border=\"1\" class=\"dataframe\">\n",
       "  <thead>\n",
       "    <tr style=\"text-align: right;\">\n",
       "      <th></th>\n",
       "      <th>Label</th>\n",
       "      <th>Banglish</th>\n",
       "    </tr>\n",
       "  </thead>\n",
       "  <tbody>\n",
       "    <tr>\n",
       "      <th>0</th>\n",
       "      <td>fear</td>\n",
       "      <td>ekhane kaoke kobor diyo na tahole tomader pori...</td>\n",
       "    </tr>\n",
       "    <tr>\n",
       "      <th>1</th>\n",
       "      <td>fear</td>\n",
       "      <td>kinto voy kiser theke ami jantamna kinto amar ...</td>\n",
       "    </tr>\n",
       "    <tr>\n",
       "      <th>2</th>\n",
       "      <td>fear</td>\n",
       "      <td>kronavairas theke srishto rog covid 19 bishbob...</td>\n",
       "    </tr>\n",
       "    <tr>\n",
       "      <th>3</th>\n",
       "      <td>fear</td>\n",
       "      <td>citao tar dike egote sahosh pacche na dudiner ...</td>\n",
       "    </tr>\n",
       "    <tr>\n",
       "      <th>4</th>\n",
       "      <td>fear</td>\n",
       "      <td>rani meri tiudrer pretatma etaaj ceshta korlam...</td>\n",
       "    </tr>\n",
       "    <tr>\n",
       "      <th>5</th>\n",
       "      <td>fear</td>\n",
       "      <td>nitjopryojniy jinisgulo niye ektu dushcintar k...</td>\n",
       "    </tr>\n",
       "    <tr>\n",
       "      <th>6</th>\n",
       "      <td>fear</td>\n",
       "      <td>gotobochrer 31 December ei shohore niumoniyar ...</td>\n",
       "    </tr>\n",
       "    <tr>\n",
       "      <th>7</th>\n",
       "      <td>fear</td>\n",
       "      <td>strir phone risiv kore shonen tini bolchen tom...</td>\n",
       "    </tr>\n",
       "    <tr>\n",
       "      <th>8</th>\n",
       "      <td>fear</td>\n",
       "      <td>vinno dhoroner sontrasi hamla notun kore udbeg...</td>\n",
       "    </tr>\n",
       "    <tr>\n",
       "      <th>9</th>\n",
       "      <td>fear</td>\n",
       "      <td>ami oke khabar khawar koyekbar dekechi o shone...</td>\n",
       "    </tr>\n",
       "  </tbody>\n",
       "</table>\n",
       "</div>"
      ],
      "text/plain": [
       "  Label                                           Banglish\n",
       "0  fear  ekhane kaoke kobor diyo na tahole tomader pori...\n",
       "1  fear  kinto voy kiser theke ami jantamna kinto amar ...\n",
       "2  fear  kronavairas theke srishto rog covid 19 bishbob...\n",
       "3  fear  citao tar dike egote sahosh pacche na dudiner ...\n",
       "4  fear  rani meri tiudrer pretatma etaaj ceshta korlam...\n",
       "5  fear  nitjopryojniy jinisgulo niye ektu dushcintar k...\n",
       "6  fear  gotobochrer 31 December ei shohore niumoniyar ...\n",
       "7  fear  strir phone risiv kore shonen tini bolchen tom...\n",
       "8  fear  vinno dhoroner sontrasi hamla notun kore udbeg...\n",
       "9  fear  ami oke khabar khawar koyekbar dekechi o shone..."
      ]
     },
     "execution_count": 137,
     "metadata": {},
     "output_type": "execute_result"
    }
   ],
   "source": [
    "df = pd.read_csv(\"C:\\Musfique's Folder\\Python\\FDS\\Data Cleaning\\Bengali_Banglish_80K_Dataset.csv\")\n",
    "df = df.drop(\"Bengali\", axis=1)\n",
    "df.head(10)"
   ]
  },
  {
   "cell_type": "code",
   "execution_count": 138,
   "metadata": {},
   "outputs": [
    {
     "name": "stdout",
     "output_type": "stream",
     "text": [
      "<class 'pandas.core.frame.DataFrame'>\n",
      "RangeIndex: 80098 entries, 0 to 80097\n",
      "Data columns (total 2 columns):\n",
      " #   Column    Non-Null Count  Dtype \n",
      "---  ------    --------------  ----- \n",
      " 0   Label     80098 non-null  object\n",
      " 1   Banglish  80094 non-null  object\n",
      "dtypes: object(2)\n",
      "memory usage: 1.2+ MB\n"
     ]
    }
   ],
   "source": [
    "df.info()"
   ]
  },
  {
   "cell_type": "code",
   "execution_count": 139,
   "metadata": {},
   "outputs": [
    {
     "data": {
      "text/html": [
       "<div>\n",
       "<style scoped>\n",
       "    .dataframe tbody tr th:only-of-type {\n",
       "        vertical-align: middle;\n",
       "    }\n",
       "\n",
       "    .dataframe tbody tr th {\n",
       "        vertical-align: top;\n",
       "    }\n",
       "\n",
       "    .dataframe thead th {\n",
       "        text-align: right;\n",
       "    }\n",
       "</style>\n",
       "<table border=\"1\" class=\"dataframe\">\n",
       "  <thead>\n",
       "    <tr style=\"text-align: right;\">\n",
       "      <th></th>\n",
       "      <th>Label</th>\n",
       "      <th>Banglish</th>\n",
       "    </tr>\n",
       "  </thead>\n",
       "  <tbody>\n",
       "    <tr>\n",
       "      <th>count</th>\n",
       "      <td>80098</td>\n",
       "      <td>80094</td>\n",
       "    </tr>\n",
       "    <tr>\n",
       "      <th>unique</th>\n",
       "      <td>6</td>\n",
       "      <td>79235</td>\n",
       "    </tr>\n",
       "    <tr>\n",
       "      <th>top</th>\n",
       "      <td>joy</td>\n",
       "      <td>khub val laglo</td>\n",
       "    </tr>\n",
       "    <tr>\n",
       "      <th>freq</th>\n",
       "      <td>17837</td>\n",
       "      <td>4</td>\n",
       "    </tr>\n",
       "  </tbody>\n",
       "</table>\n",
       "</div>"
      ],
      "text/plain": [
       "        Label        Banglish\n",
       "count   80098           80094\n",
       "unique      6           79235\n",
       "top       joy  khub val laglo\n",
       "freq    17837               4"
      ]
     },
     "execution_count": 139,
     "metadata": {},
     "output_type": "execute_result"
    }
   ],
   "source": [
    "df.describe()"
   ]
  },
  {
   "cell_type": "code",
   "execution_count": 140,
   "metadata": {},
   "outputs": [
    {
     "data": {
      "text/plain": [
       "array(['fear', 'anger', 'sadness', 'disgust', 'joy', 'surprise'],\n",
       "      dtype=object)"
      ]
     },
     "execution_count": 140,
     "metadata": {},
     "output_type": "execute_result"
    }
   ],
   "source": [
    "df[\"Label\"].unique()"
   ]
  },
  {
   "cell_type": "code",
   "execution_count": 141,
   "metadata": {},
   "outputs": [
    {
     "data": {
      "text/plain": [
       "(17837, 2)"
      ]
     },
     "execution_count": 141,
     "metadata": {},
     "output_type": "execute_result"
    }
   ],
   "source": [
    "joy = df[df[\"Label\"] == \"joy\"]\n",
    "joy.shape"
   ]
  },
  {
   "cell_type": "code",
   "execution_count": 142,
   "metadata": {},
   "outputs": [
    {
     "data": {
      "text/html": [
       "<div>\n",
       "<style scoped>\n",
       "    .dataframe tbody tr th:only-of-type {\n",
       "        vertical-align: middle;\n",
       "    }\n",
       "\n",
       "    .dataframe tbody tr th {\n",
       "        vertical-align: top;\n",
       "    }\n",
       "\n",
       "    .dataframe thead th {\n",
       "        text-align: right;\n",
       "    }\n",
       "</style>\n",
       "<table border=\"1\" class=\"dataframe\">\n",
       "  <thead>\n",
       "    <tr style=\"text-align: right;\">\n",
       "      <th></th>\n",
       "      <th>Label</th>\n",
       "      <th>Banglish</th>\n",
       "    </tr>\n",
       "  </thead>\n",
       "  <tbody>\n",
       "    <tr>\n",
       "      <th>62112</th>\n",
       "      <td>joy</td>\n",
       "      <td>assalamu olaikum,, onarso kompilit kore bekar ...</td>\n",
       "    </tr>\n",
       "    <tr>\n",
       "      <th>62113</th>\n",
       "      <td>joy</td>\n",
       "      <td>ar je kibriya bhai  apni ki shahin er sathe jo...</td>\n",
       "    </tr>\n",
       "    <tr>\n",
       "      <th>62114</th>\n",
       "      <td>joy</td>\n",
       "      <td>unar songge jogajog korar jon‍j unar mobile na...</td>\n",
       "    </tr>\n",
       "    <tr>\n",
       "      <th>62115</th>\n",
       "      <td>joy</td>\n",
       "      <td>osadharon hoyeche, shahin sotti kothai boleche...</td>\n",
       "    </tr>\n",
       "    <tr>\n",
       "      <th>62116</th>\n",
       "      <td>joy</td>\n",
       "      <td>dhoirjo ar porishrom manushke onek upre uthte ...</td>\n",
       "    </tr>\n",
       "    <tr>\n",
       "      <th>...</th>\n",
       "      <td>...</td>\n",
       "      <td>...</td>\n",
       "    </tr>\n",
       "    <tr>\n",
       "      <th>64607</th>\n",
       "      <td>joy</td>\n",
       "      <td>alhamdulillah 2013 theke rileshon kore 2023 sa...</td>\n",
       "    </tr>\n",
       "    <tr>\n",
       "      <th>64608</th>\n",
       "      <td>joy</td>\n",
       "      <td>o porto 6 e ar ami 9 e.dirgho 6 bochor se ekho...</td>\n",
       "    </tr>\n",
       "    <tr>\n",
       "      <th>64609</th>\n",
       "      <td>joy</td>\n",
       "      <td>prai 10 bochor por abar ganti shunlam ekta som...</td>\n",
       "    </tr>\n",
       "    <tr>\n",
       "      <th>64610</th>\n",
       "      <td>joy</td>\n",
       "      <td>amader somoyer ek abeger nam ei ganti.gan ti s...</td>\n",
       "    </tr>\n",
       "    <tr>\n",
       "      <th>64611</th>\n",
       "      <td>joy</td>\n",
       "      <td>shei 11bochor dhore shuntechi ekhno kharap lag...</td>\n",
       "    </tr>\n",
       "  </tbody>\n",
       "</table>\n",
       "<p>2500 rows × 2 columns</p>\n",
       "</div>"
      ],
      "text/plain": [
       "      Label                                           Banglish\n",
       "62112   joy  assalamu olaikum,, onarso kompilit kore bekar ...\n",
       "62113   joy  ar je kibriya bhai  apni ki shahin er sathe jo...\n",
       "62114   joy  unar songge jogajog korar jon‍j unar mobile na...\n",
       "62115   joy  osadharon hoyeche, shahin sotti kothai boleche...\n",
       "62116   joy  dhoirjo ar porishrom manushke onek upre uthte ...\n",
       "...     ...                                                ...\n",
       "64607   joy  alhamdulillah 2013 theke rileshon kore 2023 sa...\n",
       "64608   joy  o porto 6 e ar ami 9 e.dirgho 6 bochor se ekho...\n",
       "64609   joy  prai 10 bochor por abar ganti shunlam ekta som...\n",
       "64610   joy  amader somoyer ek abeger nam ei ganti.gan ti s...\n",
       "64611   joy  shei 11bochor dhore shuntechi ekhno kharap lag...\n",
       "\n",
       "[2500 rows x 2 columns]"
      ]
     },
     "execution_count": 142,
     "metadata": {},
     "output_type": "execute_result"
    }
   ],
   "source": [
    "joy = joy.drop(joy.index[:15337])\n",
    "joy"
   ]
  },
  {
   "cell_type": "code",
   "execution_count": 143,
   "metadata": {},
   "outputs": [
    {
     "data": {
      "text/plain": [
       "(16310, 2)"
      ]
     },
     "execution_count": 143,
     "metadata": {},
     "output_type": "execute_result"
    }
   ],
   "source": [
    "sadness = df[df[\"Label\"] == \"sadness\"]\n",
    "sadness.shape"
   ]
  },
  {
   "cell_type": "code",
   "execution_count": 144,
   "metadata": {},
   "outputs": [
    {
     "data": {
      "text/html": [
       "<div>\n",
       "<style scoped>\n",
       "    .dataframe tbody tr th:only-of-type {\n",
       "        vertical-align: middle;\n",
       "    }\n",
       "\n",
       "    .dataframe tbody tr th {\n",
       "        vertical-align: top;\n",
       "    }\n",
       "\n",
       "    .dataframe thead th {\n",
       "        text-align: right;\n",
       "    }\n",
       "</style>\n",
       "<table border=\"1\" class=\"dataframe\">\n",
       "  <thead>\n",
       "    <tr style=\"text-align: right;\">\n",
       "      <th></th>\n",
       "      <th>Label</th>\n",
       "      <th>Banglish</th>\n",
       "    </tr>\n",
       "  </thead>\n",
       "  <tbody>\n",
       "    <tr>\n",
       "      <th>59112</th>\n",
       "      <td>sadness</td>\n",
       "      <td>5ta bochor opekkha achi hoyto ektu kotha bolar...</td>\n",
       "    </tr>\n",
       "    <tr>\n",
       "      <th>59113</th>\n",
       "      <td>sadness</td>\n",
       "      <td>take ekhno bolte parini moner kotha kintu jedi...</td>\n",
       "    </tr>\n",
       "    <tr>\n",
       "      <th>59114</th>\n",
       "      <td>sadness</td>\n",
       "      <td>mner moddhe ekbar karo jonjo tibro maya jonme ...</td>\n",
       "    </tr>\n",
       "    <tr>\n",
       "      <th>59115</th>\n",
       "      <td>sadness</td>\n",
       "      <td>ekojonke khub beshi valobastam. kintu, se amak...</td>\n",
       "    </tr>\n",
       "    <tr>\n",
       "      <th>59116</th>\n",
       "      <td>sadness</td>\n",
       "      <td>jani kokhono ferano hobe na ager moto  kore,,,...</td>\n",
       "    </tr>\n",
       "    <tr>\n",
       "      <th>...</th>\n",
       "      <td>...</td>\n",
       "      <td>...</td>\n",
       "    </tr>\n",
       "    <tr>\n",
       "      <th>61607</th>\n",
       "      <td>sadness</td>\n",
       "      <td>jake eto valo basi se jodi amake bhul bojhe ta...</td>\n",
       "    </tr>\n",
       "    <tr>\n",
       "      <th>61608</th>\n",
       "      <td>sadness</td>\n",
       "      <td>tor songge katanor dingulo khub mone pore, jan...</td>\n",
       "    </tr>\n",
       "    <tr>\n",
       "      <th>61609</th>\n",
       "      <td>sadness</td>\n",
       "      <td>bece theke lav ki jibne dukhjo chara ar kichu ...</td>\n",
       "    </tr>\n",
       "    <tr>\n",
       "      <th>61610</th>\n",
       "      <td>sadness</td>\n",
       "      <td>got rate kacher lokke bolechilam, koshter gan ...</td>\n",
       "    </tr>\n",
       "    <tr>\n",
       "      <th>61611</th>\n",
       "      <td>sadness</td>\n",
       "      <td>ganta jokhon ber hoy tokhonkar dingulo to ar h...</td>\n",
       "    </tr>\n",
       "  </tbody>\n",
       "</table>\n",
       "<p>2500 rows × 2 columns</p>\n",
       "</div>"
      ],
      "text/plain": [
       "         Label                                           Banglish\n",
       "59112  sadness  5ta bochor opekkha achi hoyto ektu kotha bolar...\n",
       "59113  sadness  take ekhno bolte parini moner kotha kintu jedi...\n",
       "59114  sadness  mner moddhe ekbar karo jonjo tibro maya jonme ...\n",
       "59115  sadness  ekojonke khub beshi valobastam. kintu, se amak...\n",
       "59116  sadness  jani kokhono ferano hobe na ager moto  kore,,,...\n",
       "...        ...                                                ...\n",
       "61607  sadness  jake eto valo basi se jodi amake bhul bojhe ta...\n",
       "61608  sadness  tor songge katanor dingulo khub mone pore, jan...\n",
       "61609  sadness  bece theke lav ki jibne dukhjo chara ar kichu ...\n",
       "61610  sadness  got rate kacher lokke bolechilam, koshter gan ...\n",
       "61611  sadness  ganta jokhon ber hoy tokhonkar dingulo to ar h...\n",
       "\n",
       "[2500 rows x 2 columns]"
      ]
     },
     "execution_count": 144,
     "metadata": {},
     "output_type": "execute_result"
    }
   ],
   "source": [
    "sadness = sadness.drop(sadness.index[:13810])\n",
    "sadness"
   ]
  },
  {
   "cell_type": "code",
   "execution_count": 145,
   "metadata": {},
   "outputs": [
    {
     "data": {
      "text/plain": [
       "(15180, 2)"
      ]
     },
     "execution_count": 145,
     "metadata": {},
     "output_type": "execute_result"
    }
   ],
   "source": [
    "anger = df[df[\"Label\"] == \"anger\"]\n",
    "anger.shape"
   ]
  },
  {
   "cell_type": "code",
   "execution_count": 146,
   "metadata": {},
   "outputs": [
    {
     "data": {
      "text/html": [
       "<div>\n",
       "<style scoped>\n",
       "    .dataframe tbody tr th:only-of-type {\n",
       "        vertical-align: middle;\n",
       "    }\n",
       "\n",
       "    .dataframe tbody tr th {\n",
       "        vertical-align: top;\n",
       "    }\n",
       "\n",
       "    .dataframe thead th {\n",
       "        text-align: right;\n",
       "    }\n",
       "</style>\n",
       "<table border=\"1\" class=\"dataframe\">\n",
       "  <thead>\n",
       "    <tr style=\"text-align: right;\">\n",
       "      <th></th>\n",
       "      <th>Label</th>\n",
       "      <th>Banglish</th>\n",
       "    </tr>\n",
       "  </thead>\n",
       "  <tbody>\n",
       "    <tr>\n",
       "      <th>68436</th>\n",
       "      <td>anger</td>\n",
       "      <td>unnoyon colman rakhte noukay vot hok. sohingos...</td>\n",
       "    </tr>\n",
       "    <tr>\n",
       "      <th>68438</th>\n",
       "      <td>anger</td>\n",
       "      <td>sboiracarer din shesh hobe i ekdin. tokhon shu...</td>\n",
       "    </tr>\n",
       "    <tr>\n",
       "      <th>68439</th>\n",
       "      <td>anger</td>\n",
       "      <td>tel baji koruk,, sadharon manusher voter odhik...</td>\n",
       "    </tr>\n",
       "    <tr>\n",
       "      <th>68449</th>\n",
       "      <td>anger</td>\n",
       "      <td>apnara to bideshe thakben apnader bapera to ne...</td>\n",
       "    </tr>\n",
       "    <tr>\n",
       "      <th>68460</th>\n",
       "      <td>anger</td>\n",
       "      <td>jader chele meye bideshe thake tara ki bhabe d...</td>\n",
       "    </tr>\n",
       "    <tr>\n",
       "      <th>...</th>\n",
       "      <td>...</td>\n",
       "      <td>...</td>\n",
       "    </tr>\n",
       "    <tr>\n",
       "      <th>79943</th>\n",
       "      <td>anger</td>\n",
       "      <td>apnara maik hatey niye manush ke baje montobbo...</td>\n",
       "    </tr>\n",
       "    <tr>\n",
       "      <th>79948</th>\n",
       "      <td>anger</td>\n",
       "      <td>ekjon prtimontrri vasha jodi emon hoy . tar th...</td>\n",
       "    </tr>\n",
       "    <tr>\n",
       "      <th>79950</th>\n",
       "      <td>anger</td>\n",
       "      <td>😅tui ekta batpar montri, bjaristar sumner moto...</td>\n",
       "    </tr>\n",
       "    <tr>\n",
       "      <th>80017</th>\n",
       "      <td>anger</td>\n",
       "      <td>kivabe ekta cheler opor narira mithja seksuyal...</td>\n",
       "    </tr>\n",
       "    <tr>\n",
       "      <th>80064</th>\n",
       "      <td>anger</td>\n",
       "      <td>amader somaje emon citro prtita ghore kom besh...</td>\n",
       "    </tr>\n",
       "  </tbody>\n",
       "</table>\n",
       "<p>2500 rows × 2 columns</p>\n",
       "</div>"
      ],
      "text/plain": [
       "       Label                                           Banglish\n",
       "68436  anger  unnoyon colman rakhte noukay vot hok. sohingos...\n",
       "68438  anger  sboiracarer din shesh hobe i ekdin. tokhon shu...\n",
       "68439  anger  tel baji koruk,, sadharon manusher voter odhik...\n",
       "68449  anger  apnara to bideshe thakben apnader bapera to ne...\n",
       "68460  anger  jader chele meye bideshe thake tara ki bhabe d...\n",
       "...      ...                                                ...\n",
       "79943  anger  apnara maik hatey niye manush ke baje montobbo...\n",
       "79948  anger  ekjon prtimontrri vasha jodi emon hoy . tar th...\n",
       "79950  anger  😅tui ekta batpar montri, bjaristar sumner moto...\n",
       "80017  anger  kivabe ekta cheler opor narira mithja seksuyal...\n",
       "80064  anger  amader somaje emon citro prtita ghore kom besh...\n",
       "\n",
       "[2500 rows x 2 columns]"
      ]
     },
     "execution_count": 146,
     "metadata": {},
     "output_type": "execute_result"
    }
   ],
   "source": [
    "anger = anger.drop(anger.index[:12680])\n",
    "anger"
   ]
  },
  {
   "cell_type": "code",
   "execution_count": 147,
   "metadata": {},
   "outputs": [
    {
     "data": {
      "text/plain": [
       "(7565, 2)"
      ]
     },
     "execution_count": 147,
     "metadata": {},
     "output_type": "execute_result"
    }
   ],
   "source": [
    "fear = df[df[\"Label\"] == \"fear\"]\n",
    "fear.shape"
   ]
  },
  {
   "cell_type": "code",
   "execution_count": 148,
   "metadata": {},
   "outputs": [
    {
     "data": {
      "text/html": [
       "<div>\n",
       "<style scoped>\n",
       "    .dataframe tbody tr th:only-of-type {\n",
       "        vertical-align: middle;\n",
       "    }\n",
       "\n",
       "    .dataframe tbody tr th {\n",
       "        vertical-align: top;\n",
       "    }\n",
       "\n",
       "    .dataframe thead th {\n",
       "        text-align: right;\n",
       "    }\n",
       "</style>\n",
       "<table border=\"1\" class=\"dataframe\">\n",
       "  <thead>\n",
       "    <tr style=\"text-align: right;\">\n",
       "      <th></th>\n",
       "      <th>Label</th>\n",
       "      <th>Banglish</th>\n",
       "    </tr>\n",
       "  </thead>\n",
       "  <tbody>\n",
       "    <tr>\n",
       "      <th>52354</th>\n",
       "      <td>fear</td>\n",
       "      <td>ami kajer somoy ekti hasi choriye amar anondo ...</td>\n",
       "    </tr>\n",
       "    <tr>\n",
       "      <th>52359</th>\n",
       "      <td>fear</td>\n",
       "      <td>ami Islam theke kichuta voy peyechi</td>\n",
       "    </tr>\n",
       "    <tr>\n",
       "      <th>52362</th>\n",
       "      <td>fear</td>\n",
       "      <td>hatte hatte ami ar voyngkor ba nirapottahin bo...</td>\n",
       "    </tr>\n",
       "    <tr>\n",
       "      <th>52363</th>\n",
       "      <td>fear</td>\n",
       "      <td>eka vromon korar somoyo ami orkkhit bodh kori</td>\n",
       "    </tr>\n",
       "    <tr>\n",
       "      <th>52365</th>\n",
       "      <td>fear</td>\n",
       "      <td>ami onuvob kori je ami amar school onnanno mey...</td>\n",
       "    </tr>\n",
       "    <tr>\n",
       "      <th>...</th>\n",
       "      <td>...</td>\n",
       "      <td>...</td>\n",
       "    </tr>\n",
       "    <tr>\n",
       "      <th>80020</th>\n",
       "      <td>fear</td>\n",
       "      <td>sobsheshe amio konfiushon e roye gelam.otobe s...</td>\n",
       "    </tr>\n",
       "    <tr>\n",
       "      <th>80030</th>\n",
       "      <td>fear</td>\n",
       "      <td>natokti shesh hoyeo jen shesh holo na moner vi...</td>\n",
       "    </tr>\n",
       "    <tr>\n",
       "      <th>80049</th>\n",
       "      <td>fear</td>\n",
       "      <td>hoiche vai, ebar bolen doshi ke bujhte parchi ...</td>\n",
       "    </tr>\n",
       "    <tr>\n",
       "      <th>80084</th>\n",
       "      <td>fear</td>\n",
       "      <td>ei natokta ekhan theke arekta toiri kora dorka...</td>\n",
       "    </tr>\n",
       "    <tr>\n",
       "      <th>80089</th>\n",
       "      <td>fear</td>\n",
       "      <td>mathata jhim mere ache.ofiser investigeshon e ...</td>\n",
       "    </tr>\n",
       "  </tbody>\n",
       "</table>\n",
       "<p>2500 rows × 2 columns</p>\n",
       "</div>"
      ],
      "text/plain": [
       "      Label                                           Banglish\n",
       "52354  fear  ami kajer somoy ekti hasi choriye amar anondo ...\n",
       "52359  fear                ami Islam theke kichuta voy peyechi\n",
       "52362  fear  hatte hatte ami ar voyngkor ba nirapottahin bo...\n",
       "52363  fear      eka vromon korar somoyo ami orkkhit bodh kori\n",
       "52365  fear  ami onuvob kori je ami amar school onnanno mey...\n",
       "...     ...                                                ...\n",
       "80020  fear  sobsheshe amio konfiushon e roye gelam.otobe s...\n",
       "80030  fear  natokti shesh hoyeo jen shesh holo na moner vi...\n",
       "80049  fear  hoiche vai, ebar bolen doshi ke bujhte parchi ...\n",
       "80084  fear  ei natokta ekhan theke arekta toiri kora dorka...\n",
       "80089  fear  mathata jhim mere ache.ofiser investigeshon e ...\n",
       "\n",
       "[2500 rows x 2 columns]"
      ]
     },
     "execution_count": 148,
     "metadata": {},
     "output_type": "execute_result"
    }
   ],
   "source": [
    "fear = fear.drop(fear.index[:5065])\n",
    "fear"
   ]
  },
  {
   "cell_type": "code",
   "execution_count": 149,
   "metadata": {},
   "outputs": [
    {
     "name": "stderr",
     "output_type": "stream",
     "text": [
      "<>:1: SyntaxWarning: invalid escape sequence '\\M'\n",
      "<>:1: SyntaxWarning: invalid escape sequence '\\M'\n",
      "C:\\Users\\PC\\AppData\\Local\\Temp\\ipykernel_22052\\1776555628.py:1: SyntaxWarning: invalid escape sequence '\\M'\n",
      "  joy.to_csv(\"C:\\Musfique's Folder\\Python\\FDS\\Data Cleaning/new_data.csv\", mode = \"a\", index = False, header=True)\n"
     ]
    }
   ],
   "source": [
    "joy.to_csv(\"C:\\Musfique's Folder\\Python\\FDS\\Data Cleaning/new_data.csv\", mode = \"a\", index = False, header=True)"
   ]
  },
  {
   "cell_type": "code",
   "execution_count": 150,
   "metadata": {},
   "outputs": [
    {
     "name": "stderr",
     "output_type": "stream",
     "text": [
      "<>:1: SyntaxWarning: invalid escape sequence '\\M'\n",
      "<>:1: SyntaxWarning: invalid escape sequence '\\M'\n",
      "C:\\Users\\PC\\AppData\\Local\\Temp\\ipykernel_22052\\2411091345.py:1: SyntaxWarning: invalid escape sequence '\\M'\n",
      "  sadness.to_csv(\"C:\\Musfique's Folder\\Python\\FDS\\Data Cleaning/new_data.csv\", mode = \"a\", index = False, header=False)\n"
     ]
    }
   ],
   "source": [
    "sadness.to_csv(\"C:\\Musfique's Folder\\Python\\FDS\\Data Cleaning/new_data.csv\", mode = \"a\", index = False, header=False)"
   ]
  },
  {
   "cell_type": "code",
   "execution_count": 151,
   "metadata": {},
   "outputs": [
    {
     "name": "stderr",
     "output_type": "stream",
     "text": [
      "<>:1: SyntaxWarning: invalid escape sequence '\\M'\n",
      "<>:1: SyntaxWarning: invalid escape sequence '\\M'\n",
      "C:\\Users\\PC\\AppData\\Local\\Temp\\ipykernel_22052\\3967203009.py:1: SyntaxWarning: invalid escape sequence '\\M'\n",
      "  anger.to_csv(\"C:\\Musfique's Folder\\Python\\FDS\\Data Cleaning/new_data.csv\", mode = \"a\", index = False, header=False)\n"
     ]
    }
   ],
   "source": [
    "anger.to_csv(\"C:\\Musfique's Folder\\Python\\FDS\\Data Cleaning/new_data.csv\", mode = \"a\", index = False, header=False)"
   ]
  },
  {
   "cell_type": "code",
   "execution_count": 152,
   "metadata": {},
   "outputs": [
    {
     "name": "stderr",
     "output_type": "stream",
     "text": [
      "<>:1: SyntaxWarning: invalid escape sequence '\\M'\n",
      "<>:1: SyntaxWarning: invalid escape sequence '\\M'\n",
      "C:\\Users\\PC\\AppData\\Local\\Temp\\ipykernel_22052\\449162381.py:1: SyntaxWarning: invalid escape sequence '\\M'\n",
      "  fear.to_csv(\"C:\\Musfique's Folder\\Python\\FDS\\Data Cleaning/new_data.csv\", mode = \"a\", index = False, header=False)\n"
     ]
    }
   ],
   "source": [
    "fear.to_csv(\"C:\\Musfique's Folder\\Python\\FDS\\Data Cleaning/new_data.csv\", mode = \"a\", index = False, header=False)"
   ]
  }
 ],
 "metadata": {
  "kernelspec": {
   "display_name": "Python 3",
   "language": "python",
   "name": "python3"
  },
  "language_info": {
   "codemirror_mode": {
    "name": "ipython",
    "version": 3
   },
   "file_extension": ".py",
   "mimetype": "text/x-python",
   "name": "python",
   "nbconvert_exporter": "python",
   "pygments_lexer": "ipython3",
   "version": "3.12.7"
  }
 },
 "nbformat": 4,
 "nbformat_minor": 2
}
