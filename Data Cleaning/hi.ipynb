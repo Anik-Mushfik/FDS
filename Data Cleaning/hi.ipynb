{
 "cells": [
  {
   "cell_type": "code",
   "execution_count": 15,
   "metadata": {},
   "outputs": [],
   "source": [
    "import pandas as pd"
   ]
  },
  {
   "cell_type": "code",
   "execution_count": 16,
   "metadata": {},
   "outputs": [
    {
     "name": "stderr",
     "output_type": "stream",
     "text": [
      "<>:1: SyntaxWarning: invalid escape sequence '\\M'\n",
      "<>:1: SyntaxWarning: invalid escape sequence '\\M'\n",
      "C:\\Users\\PC\\AppData\\Local\\Temp\\ipykernel_22052\\1408443056.py:1: SyntaxWarning: invalid escape sequence '\\M'\n",
      "  df = pd.read_csv(\"C:\\Musfique's Folder\\Python\\FDS\\Data Cleaning\\Bengali_Banglish_80K_Dataset.csv\")\n"
     ]
    },
    {
     "data": {
      "text/html": [
       "<div>\n",
       "<style scoped>\n",
       "    .dataframe tbody tr th:only-of-type {\n",
       "        vertical-align: middle;\n",
       "    }\n",
       "\n",
       "    .dataframe tbody tr th {\n",
       "        vertical-align: top;\n",
       "    }\n",
       "\n",
       "    .dataframe thead th {\n",
       "        text-align: right;\n",
       "    }\n",
       "</style>\n",
       "<table border=\"1\" class=\"dataframe\">\n",
       "  <thead>\n",
       "    <tr style=\"text-align: right;\">\n",
       "      <th></th>\n",
       "      <th>Label</th>\n",
       "      <th>Banglish</th>\n",
       "    </tr>\n",
       "  </thead>\n",
       "  <tbody>\n",
       "    <tr>\n",
       "      <th>0</th>\n",
       "      <td>fear</td>\n",
       "      <td>ekhane kaoke kobor diyo na tahole tomader pori...</td>\n",
       "    </tr>\n",
       "    <tr>\n",
       "      <th>1</th>\n",
       "      <td>fear</td>\n",
       "      <td>kinto voy kiser theke ami jantamna kinto amar ...</td>\n",
       "    </tr>\n",
       "    <tr>\n",
       "      <th>2</th>\n",
       "      <td>fear</td>\n",
       "      <td>kronavairas theke srishto rog covid 19 bishbob...</td>\n",
       "    </tr>\n",
       "    <tr>\n",
       "      <th>3</th>\n",
       "      <td>fear</td>\n",
       "      <td>citao tar dike egote sahosh pacche na dudiner ...</td>\n",
       "    </tr>\n",
       "    <tr>\n",
       "      <th>4</th>\n",
       "      <td>fear</td>\n",
       "      <td>rani meri tiudrer pretatma etaaj ceshta korlam...</td>\n",
       "    </tr>\n",
       "    <tr>\n",
       "      <th>5</th>\n",
       "      <td>fear</td>\n",
       "      <td>nitjopryojniy jinisgulo niye ektu dushcintar k...</td>\n",
       "    </tr>\n",
       "    <tr>\n",
       "      <th>6</th>\n",
       "      <td>fear</td>\n",
       "      <td>gotobochrer 31 December ei shohore niumoniyar ...</td>\n",
       "    </tr>\n",
       "    <tr>\n",
       "      <th>7</th>\n",
       "      <td>fear</td>\n",
       "      <td>strir phone risiv kore shonen tini bolchen tom...</td>\n",
       "    </tr>\n",
       "    <tr>\n",
       "      <th>8</th>\n",
       "      <td>fear</td>\n",
       "      <td>vinno dhoroner sontrasi hamla notun kore udbeg...</td>\n",
       "    </tr>\n",
       "    <tr>\n",
       "      <th>9</th>\n",
       "      <td>fear</td>\n",
       "      <td>ami oke khabar khawar koyekbar dekechi o shone...</td>\n",
       "    </tr>\n",
       "  </tbody>\n",
       "</table>\n",
       "</div>"
      ],
      "text/plain": [
       "  Label                                           Banglish\n",
       "0  fear  ekhane kaoke kobor diyo na tahole tomader pori...\n",
       "1  fear  kinto voy kiser theke ami jantamna kinto amar ...\n",
       "2  fear  kronavairas theke srishto rog covid 19 bishbob...\n",
       "3  fear  citao tar dike egote sahosh pacche na dudiner ...\n",
       "4  fear  rani meri tiudrer pretatma etaaj ceshta korlam...\n",
       "5  fear  nitjopryojniy jinisgulo niye ektu dushcintar k...\n",
       "6  fear  gotobochrer 31 December ei shohore niumoniyar ...\n",
       "7  fear  strir phone risiv kore shonen tini bolchen tom...\n",
       "8  fear  vinno dhoroner sontrasi hamla notun kore udbeg...\n",
       "9  fear  ami oke khabar khawar koyekbar dekechi o shone..."
      ]
     },
     "execution_count": 16,
     "metadata": {},
     "output_type": "execute_result"
    }
   ],
   "source": [
    "df = pd.read_csv(\"C:\\Musfique's Folder\\Python\\FDS\\Data Cleaning\\Bengali_Banglish_80K_Dataset.csv\")\n",
    "df = df.drop(\"Bengali\", axis=1)\n",
    "df.head(10)"
   ]
  },
  {
   "cell_type": "code",
   "execution_count": 20,
   "metadata": {},
   "outputs": [
    {
     "data": {
      "text/plain": [
       "array(['fear', 'anger', 'sadness', 'disgust', 'joy', 'surprise'],\n",
       "      dtype=object)"
      ]
     },
     "execution_count": 20,
     "metadata": {},
     "output_type": "execute_result"
    }
   ],
   "source": [
    "df[\"Label\"].unique()"
   ]
  },
  {
   "cell_type": "code",
   "execution_count": null,
   "metadata": {},
   "outputs": [],
   "source": [
    "happy = df[df[\"Label\"] == \"happy\"]\n",
    "happy = happy.drop(happy.index[:5065])\n",
    "happy"
   ]
  },
  {
   "cell_type": "code",
   "execution_count": null,
   "metadata": {},
   "outputs": [],
   "source": [
    "sadness = df[df[\"Label\"] == \"sadness\"]\n",
    "sadness = sadness.drop(sadness.index[:5065])\n",
    "sadness"
   ]
  },
  {
   "cell_type": "code",
   "execution_count": null,
   "metadata": {},
   "outputs": [],
   "source": [
    "disgust = df[df[\"Label\"] == \"disgust\"]\n",
    "disgust = disgust.drop(disgust.index[:5065])\n",
    "disgust"
   ]
  },
  {
   "cell_type": "code",
   "execution_count": 17,
   "metadata": {},
   "outputs": [
    {
     "data": {
      "text/html": [
       "<div>\n",
       "<style scoped>\n",
       "    .dataframe tbody tr th:only-of-type {\n",
       "        vertical-align: middle;\n",
       "    }\n",
       "\n",
       "    .dataframe tbody tr th {\n",
       "        vertical-align: top;\n",
       "    }\n",
       "\n",
       "    .dataframe thead th {\n",
       "        text-align: right;\n",
       "    }\n",
       "</style>\n",
       "<table border=\"1\" class=\"dataframe\">\n",
       "  <thead>\n",
       "    <tr style=\"text-align: right;\">\n",
       "      <th></th>\n",
       "      <th>Label</th>\n",
       "      <th>Banglish</th>\n",
       "    </tr>\n",
       "  </thead>\n",
       "  <tbody>\n",
       "    <tr>\n",
       "      <th>52354</th>\n",
       "      <td>fear</td>\n",
       "      <td>ami kajer somoy ekti hasi choriye amar anondo ...</td>\n",
       "    </tr>\n",
       "    <tr>\n",
       "      <th>52359</th>\n",
       "      <td>fear</td>\n",
       "      <td>ami Islam theke kichuta voy peyechi</td>\n",
       "    </tr>\n",
       "    <tr>\n",
       "      <th>52362</th>\n",
       "      <td>fear</td>\n",
       "      <td>hatte hatte ami ar voyngkor ba nirapottahin bo...</td>\n",
       "    </tr>\n",
       "    <tr>\n",
       "      <th>52363</th>\n",
       "      <td>fear</td>\n",
       "      <td>eka vromon korar somoyo ami orkkhit bodh kori</td>\n",
       "    </tr>\n",
       "    <tr>\n",
       "      <th>52365</th>\n",
       "      <td>fear</td>\n",
       "      <td>ami onuvob kori je ami amar school onnanno mey...</td>\n",
       "    </tr>\n",
       "    <tr>\n",
       "      <th>...</th>\n",
       "      <td>...</td>\n",
       "      <td>...</td>\n",
       "    </tr>\n",
       "    <tr>\n",
       "      <th>80020</th>\n",
       "      <td>fear</td>\n",
       "      <td>sobsheshe amio konfiushon e roye gelam.otobe s...</td>\n",
       "    </tr>\n",
       "    <tr>\n",
       "      <th>80030</th>\n",
       "      <td>fear</td>\n",
       "      <td>natokti shesh hoyeo jen shesh holo na moner vi...</td>\n",
       "    </tr>\n",
       "    <tr>\n",
       "      <th>80049</th>\n",
       "      <td>fear</td>\n",
       "      <td>hoiche vai, ebar bolen doshi ke bujhte parchi ...</td>\n",
       "    </tr>\n",
       "    <tr>\n",
       "      <th>80084</th>\n",
       "      <td>fear</td>\n",
       "      <td>ei natokta ekhan theke arekta toiri kora dorka...</td>\n",
       "    </tr>\n",
       "    <tr>\n",
       "      <th>80089</th>\n",
       "      <td>fear</td>\n",
       "      <td>mathata jhim mere ache.ofiser investigeshon e ...</td>\n",
       "    </tr>\n",
       "  </tbody>\n",
       "</table>\n",
       "<p>2500 rows × 2 columns</p>\n",
       "</div>"
      ],
      "text/plain": [
       "      Label                                           Banglish\n",
       "52354  fear  ami kajer somoy ekti hasi choriye amar anondo ...\n",
       "52359  fear                ami Islam theke kichuta voy peyechi\n",
       "52362  fear  hatte hatte ami ar voyngkor ba nirapottahin bo...\n",
       "52363  fear      eka vromon korar somoyo ami orkkhit bodh kori\n",
       "52365  fear  ami onuvob kori je ami amar school onnanno mey...\n",
       "...     ...                                                ...\n",
       "80020  fear  sobsheshe amio konfiushon e roye gelam.otobe s...\n",
       "80030  fear  natokti shesh hoyeo jen shesh holo na moner vi...\n",
       "80049  fear  hoiche vai, ebar bolen doshi ke bujhte parchi ...\n",
       "80084  fear  ei natokta ekhan theke arekta toiri kora dorka...\n",
       "80089  fear  mathata jhim mere ache.ofiser investigeshon e ...\n",
       "\n",
       "[2500 rows x 2 columns]"
      ]
     },
     "execution_count": 17,
     "metadata": {},
     "output_type": "execute_result"
    }
   ],
   "source": [
    "fear = df[df[\"Label\"] == \"fear\"]\n",
    "fear = fear.drop(fear.index[:5065])\n",
    "fear"
   ]
  },
  {
   "cell_type": "code",
   "execution_count": 18,
   "metadata": {},
   "outputs": [
    {
     "name": "stderr",
     "output_type": "stream",
     "text": [
      "<>:1: SyntaxWarning: invalid escape sequence '\\M'\n",
      "<>:1: SyntaxWarning: invalid escape sequence '\\M'\n",
      "C:\\Users\\PC\\AppData\\Local\\Temp\\ipykernel_22052\\716346132.py:1: SyntaxWarning: invalid escape sequence '\\M'\n",
      "  fear.to_csv(\"C:\\Musfique's Folder\\Python\\FDS\\Data Cleaning/new_data.csv\", index = False)\n"
     ]
    }
   ],
   "source": [
    "fear.to_csv(\"C:\\Musfique's Folder\\Python\\FDS\\Data Cleaning/new_data.csv\", index = False)"
   ]
  }
 ],
 "metadata": {
  "kernelspec": {
   "display_name": "Python 3",
   "language": "python",
   "name": "python3"
  },
  "language_info": {
   "codemirror_mode": {
    "name": "ipython",
    "version": 3
   },
   "file_extension": ".py",
   "mimetype": "text/x-python",
   "name": "python",
   "nbconvert_exporter": "python",
   "pygments_lexer": "ipython3",
   "version": "3.12.5"
  }
 },
 "nbformat": 4,
 "nbformat_minor": 2
}
