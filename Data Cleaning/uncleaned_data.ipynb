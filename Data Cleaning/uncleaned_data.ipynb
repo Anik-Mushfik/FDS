{
 "cells": [
  {
   "cell_type": "code",
   "execution_count": 5,
   "metadata": {},
   "outputs": [],
   "source": [
    "import pandas as pd\n",
    "import numpy as np"
   ]
  },
  {
   "cell_type": "code",
   "execution_count": 3,
   "metadata": {},
   "outputs": [],
   "source": [
    "\n",
    "# Data from the image\n",
    "data = {\n",
    "    \"Name\": [\"Rahim\", \"Karim\", \"Jamal\", \"Hasina\", \"Shabana\", \"Bashir\", \"Rafiq\", \"Salma\", \"Moinul\", \"Sadia\", \"Nadia\", \"Morshed\", \"Taslima\", \"Selina\", \"Abul\", \"Nasrin\", \"Asif\", \"Mofiz\", \"Faruk\"],\n",
    "    \"Age\": [25, 30, 35, np.nan, 40, 29, 33, 22, 55, 36, np.nan, 60, 42, 54, 38, 31, 27, np.nan, 41],\n",
    "    \"Gender\": [\"Male\", \"Male\", \"Male\", \"Female\", \"Female\", \"Male\", \"Male\", \"Female\", \"Male\", \"Female\", \"Female\", \"Male\", \"Female\", \"Female\", \"Male\", \"Female\", \"Male\", \"Male\", \"Male\"],\n",
    "    \"Salary\": [50000, 60000, 70000, 80000, np.nan, 1200000, 85000, 90000, 300000, 60000, 70000, 25000, 62000, 54000, 71000, 68000, 71000, 66000, 66000],\n",
    "    \"Department\": [\"HR\", \"Finance\", \"Marketing\", \"Finance\", \"HR\", \"HR\", \"Finance\", \"HR\", \"Finance\", \"Finance\", \"HR\", \"Marketing\", \"Finance\", \"HR\", \"HR\", \"Finance\", \"Marketing\", \"Marketing\", \"HR\"],\n",
    "    \"Date of Birth\": [\"5/12/1995\", \"9/23/1985\", \"12/2/1975\", \"4/12/1988\", \"8/14/1990\", \"3/19/1982\", \"7/21/1989\", \"11/5/1992\", \"6/9/1984\", \"1/20/1993\", \"5/12/1995\", \"8/3/1981\", \"10/13/1987\", \"12/24/1976\", \"4/12/1988\", \"3/19/1982\", \"7/21/1989\", \"8/14/1990\", \"9/23/1985\"],\n",
    "    \"Address\": [\"Dhaka\", \"Chittagong\", \"Sylhet\", \"78 Khulna Rd\", \"Barisal\", \"Rajshahi\", \"Rajshahi\", \"Dhaka\", \"Chittagong\", \"Comilla\", \"Chittagong\", \"Rangpur\", \"Khulna\", \"Sylhet\", \"Khulna\", \"Rajshahi\", \"Sylhet\", \"Dhaka\", \"Barisal\"],\n",
    "    \"Product\": [\"widgetA\", \"WidgetB\", \"widgetA\", \"WidgetC\", \"widgetb\", \"widgetA\", \"WidgetB\", \"widgetA\", \"widgetA\", \"WidgetB\", \"WidgetC\", \"widgetb\", \"WidgetA\", \"WidgetC\", \"WidgetC\", \"widgetb\", \"widgetC\", \"WidgetA\", \"WidgetA\"]\n",
    "}\n",
    "\n",
    "# Create DataFrame\n",
    "df = pd.DataFrame(data)\n",
    "\n",
    "# Fill missing values with NaN\n",
    "df = df.replace(\"\", np.nan)\n",
    "\n",
    "# Save to CSV\n",
    "df.to_csv(\"uncleaned_data.csv\", index=False)\n"
   ]
  },
  {
   "cell_type": "code",
   "execution_count": 1,
   "metadata": {},
   "outputs": [
    {
     "ename": "SyntaxError",
     "evalue": "(unicode error) 'unicodeescape' codec can't decode bytes in position 45-46: truncated \\uXXXX escape (14272356.py, line 1)",
     "output_type": "error",
     "traceback": [
      "\u001b[1;36m  Cell \u001b[1;32mIn[1], line 1\u001b[1;36m\u001b[0m\n\u001b[1;33m    df = pd.read_csv(\"C:\\Musfique's Folder\\Python\\FDS\\Data Cleaning\\unclean_data_.csv\")\u001b[0m\n\u001b[1;37m                     ^\u001b[0m\n\u001b[1;31mSyntaxError\u001b[0m\u001b[1;31m:\u001b[0m (unicode error) 'unicodeescape' codec can't decode bytes in position 45-46: truncated \\uXXXX escape\n"
     ]
    }
   ],
   "source": [
    "df = pd.read_csv(\"C:\\Musfique's Folder\\Python\\FDS\\Data Cleaning\\unclean_data_.csv\")\n",
    "df"
   ]
  },
  {
   "cell_type": "code",
   "execution_count": null,
   "metadata": {},
   "outputs": [],
   "source": []
  }
 ],
 "metadata": {
  "kernelspec": {
   "display_name": "Python 3",
   "language": "python",
   "name": "python3"
  },
  "language_info": {
   "codemirror_mode": {
    "name": "ipython",
    "version": 3
   },
   "file_extension": ".py",
   "mimetype": "text/x-python",
   "name": "python",
   "nbconvert_exporter": "python",
   "pygments_lexer": "ipython3",
   "version": "3.12.6"
  }
 },
 "nbformat": 4,
 "nbformat_minor": 2
}
